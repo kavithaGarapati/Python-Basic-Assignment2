{
 "cells": [
  {
   "cell_type": "code",
   "execution_count": null,
   "metadata": {},
   "outputs": [],
   "source": [
    "##Q1 : What are the two values of the Boolean data type? How do you write them?\n",
    "\n",
    "Answer : Boolean is a Data type with one of the two built-in values, True or False.\n",
    "         By default the value of True is always 1 and the value of the False is always 0.\n",
    "         True and False with capital ‘T’ and ‘F’ are valid booleans.\n",
    "    "
   ]
  },
  {
   "cell_type": "code",
   "execution_count": null,
   "metadata": {},
   "outputs": [],
   "source": [
    "##Q2 : What are the three different types of Boolean operators?\n",
    "\n",
    "Answer : The three different types of Boolean Operators are 'AND', 'OR', 'NOT'.\n",
    "         For example : If we assign a, b = 10, 20\n",
    "             a>b and b>a is False.\n",
    "             a>b or b>a is True.\n",
    "             not a > b is True."
   ]
  },
  {
   "cell_type": "code",
   "execution_count": null,
   "metadata": {},
   "outputs": [],
   "source": [
    "##Q3 : Make a list of each Boolean operator's truth tables (i.e. every possible combination of Boolean\n",
    "##     values for the operator and what it evaluate ).\n",
    "\n",
    "Answer : 'AND' operator Truth table :\n",
    "                True   True   True\n",
    "                True   False  False\n",
    "                False  True   False\n",
    "                False  False  False\n",
    "                \n",
    "          'OR' operator Truth table :\n",
    "                True   True   True\n",
    "                True   False  True\n",
    "                False  True   True\n",
    "                False  False  False\n",
    "                \n",
    "         'NOT' operator Truth table :\n",
    "                 Not True   False\n",
    "                 Not False  True\n",
    "         "
   ]
  },
  {
   "cell_type": "code",
   "execution_count": null,
   "metadata": {},
   "outputs": [],
   "source": [
    "##Q4 : What are the values of the following expressions?\n",
    "      (5 > 4) and (3 == 5)\n",
    "       not (5 > 4)\n",
    "      (5 > 4) or (3 == 5)\n",
    "      not ((5 > 4) or (3 == 5))\n",
    "      (True and True) and (True == False)\n",
    "      (not False) or (not True)\n",
    "        \n",
    "Answer :    False             \n",
    "            False                      \n",
    "            True              \n",
    "            False \n",
    "            False  \n",
    "            True  "
   ]
  },
  {
   "cell_type": "code",
   "execution_count": null,
   "metadata": {},
   "outputs": [],
   "source": [
    "##Q5 : What are the six comparison operators?\n",
    "\n",
    "Answer : 1.Equal to (==)  \n",
    "         2.Not Equal to (!=)\n",
    "         3.Greater than (>)\n",
    "         4.Greater than or equal to (>=)\n",
    "         5.Less than (<)\n",
    "         6.Less than or Equal to (<=)"
   ]
  },
  {
   "cell_type": "code",
   "execution_count": null,
   "metadata": {},
   "outputs": [],
   "source": [
    "##Q6 : How do you tell the difference between the equal to and assignment operators?\n",
    "##     Describe a condition and when you would use one.\n",
    "\n",
    "Answer : 'Equal to(==)' is a comparision operator which can be used to compare 2 values.\n",
    "          Ex :  a == b\n",
    "            The above expression will compare the values of a and b.\n",
    "            \n",
    "         'Assignment Operators' are used to assign values to variables.\n",
    "          Ex : a = 20 \n",
    "            The above expression is assigning the value '20' to variable 'a'.\n",
    "                \n",
    "                "
   ]
  },
  {
   "cell_type": "code",
   "execution_count": null,
   "metadata": {},
   "outputs": [],
   "source": [
    "##Q7 : Identify the three blocks in this code:\n",
    "      spam = 0\n",
    "      if spam == 10:\n",
    "      print('eggs')\n",
    "      if spam > 5:\n",
    "      print('bacon')\n",
    "      else:\n",
    "      print('ham')\n",
    "      print('spam')\n",
    "      print('spam')\n",
    "            \n",
    "Answer : First Block  : line 3 : print('eggs') 'expected an indented block'.\n",
    "         Second Block : line 5 : print('bacon') 'expected an indented block'.\n",
    "         Third Block  : line 7 : print('ham') 'expected an indented block'.       \n",
    "    "
   ]
  },
  {
   "cell_type": "code",
   "execution_count": null,
   "metadata": {},
   "outputs": [],
   "source": [
    "##Q8 : Write code that prints Hello if 1 is stored in spam, prints Howdy if 2 is stored in spam, and prints\n",
    "Greetings! if anything else is stored in spam.\n",
    "\n",
    "Answer : \n",
    "    \n",
    "spam = int (input(\"Enter a value : \"))\n",
    "\n",
    "if spam == 1 :\n",
    "    print (\"Hello\")\n",
    "elif spam == 2 :\n",
    "    print (\"Howdy\")\n",
    "else  :\n",
    "    print (\"Greetings!\")"
   ]
  },
  {
   "cell_type": "code",
   "execution_count": null,
   "metadata": {},
   "outputs": [],
   "source": [
    "##Q9 : If your programme is stuck in an endless loop, what keys you’ll press?\n",
    "\n",
    "Answer : Ctrl-C\n",
    "\n"
   ]
  },
  {
   "cell_type": "code",
   "execution_count": null,
   "metadata": {},
   "outputs": [],
   "source": [
    "##Q10 : How can you tell the difference between break and continue?\n",
    "\n",
    "Answer : Both break and continue statements can alter the flow of a normal loop but in opposite ways.\n",
    "         The continue statement skips the code that comes after it and returns the control to the beginning of the loop. \n",
    "         The break statement terminates the current loop.\n",
    "         and the flow will continue with the code followed that comes after the loop.\n",
    "    "
   ]
  },
  {
   "cell_type": "code",
   "execution_count": null,
   "metadata": {},
   "outputs": [],
   "source": [
    "##Q11 : In a for loop, what is the difference between range(10), range(0, 10), and range(0, 10, 1)?\n",
    "\n",
    "Answer : No difference.\n",
    "\n",
    "for i in range (10)    : 'i' value will start from 0 by default and ends with 10.\n",
    "        \n",
    "for i in range(0,10)   : 'i' value will start from 0 which is the starting point and the end point will be 10.\n",
    "                        Here we can change the starting point from 0 to any number which is less than 10.\n",
    "                    \n",
    "for i in range(0,10,1) : 'i' value will start from 0 which is the starting point and jump one point(i+1) because the step size is 1 and ends with 10.\n",
    "                        Here we can change the starting point and step size.\n"
   ]
  },
  {
   "cell_type": "code",
   "execution_count": null,
   "metadata": {},
   "outputs": [],
   "source": [
    "##Q12 : Write a short program that prints the numbers 1 to 10 using a for loop. \n",
    "## Then write an equivalent program that prints the numbers 1 to 10 using a while loop."
   ]
  },
  {
   "cell_type": "code",
   "execution_count": 10,
   "metadata": {
    "scrolled": true
   },
   "outputs": [
    {
     "name": "stdout",
     "output_type": "stream",
     "text": [
      "1\n",
      "2\n",
      "3\n",
      "4\n",
      "5\n",
      "6\n",
      "7\n",
      "8\n",
      "9\n",
      "10\n"
     ]
    }
   ],
   "source": [
    "##Q12 Answer for loop :\n",
    "\n",
    "for i in range(1,11) :\n",
    "    \n",
    "    print(i)"
   ]
  },
  {
   "cell_type": "code",
   "execution_count": 15,
   "metadata": {},
   "outputs": [
    {
     "name": "stdout",
     "output_type": "stream",
     "text": [
      "1\n",
      "2\n",
      "3\n",
      "4\n",
      "5\n",
      "6\n",
      "7\n",
      "8\n",
      "9\n",
      "10\n"
     ]
    }
   ],
   "source": [
    "##Q12 Answer while loop :\n",
    "i = 1\n",
    "while  i <= 10 :\n",
    "    print(i)\n",
    "    i = i + 1"
   ]
  },
  {
   "cell_type": "code",
   "execution_count": null,
   "metadata": {},
   "outputs": [],
   "source": [
    "##Q13 : If you had a function named bacon() inside a module named spam, how would you call it after importing spam?\n",
    "\n",
    "Answer : spam.bacon()"
   ]
  }
 ],
 "metadata": {
  "kernelspec": {
   "display_name": "Python 3",
   "language": "python",
   "name": "python3"
  },
  "language_info": {
   "codemirror_mode": {
    "name": "ipython",
    "version": 3
   },
   "file_extension": ".py",
   "mimetype": "text/x-python",
   "name": "python",
   "nbconvert_exporter": "python",
   "pygments_lexer": "ipython3",
   "version": "3.8.5"
  }
 },
 "nbformat": 4,
 "nbformat_minor": 4
}
